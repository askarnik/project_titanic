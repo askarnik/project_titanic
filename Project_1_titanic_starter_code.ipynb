{
 "cells": [
  {
   "cell_type": "markdown",
   "metadata": {},
   "source": [
    "![](https://upload.wikimedia.org/wikipedia/en/b/bb/Titanic_breaks_in_half.jpg)"
   ]
  },
  {
   "cell_type": "markdown",
   "metadata": {},
   "source": [
    "# Project 1: [Titanic](https://www.kaggle.com/c/titanic/data)\n",
    "---\n",
    "\n",
    "The sinking of the RMS Titanic is one of the most infamous shipwrecks in history.  On April 15, 1912, during her maiden voyage, the Titanic sank after colliding with an iceberg, killing 1502 out of 2224 passengers and crew. This sensational tragedy shocked the international community and led to better safety regulations for ships.\n",
    "\n",
    "One of the reasons that the shipwreck led to such loss of life was that there were not enough lifeboats for the passengers and crew. Although there was some element of luck involved in surviving the sinking, some groups of people were more likely to survive than others, such as women, children, and the upper-class.\n",
    "\n",
    "In this project, you will exercise your skills with loading data, python data structures, and Pandas to identify charactaristics of Titanic survivors!\n",
    "\n",
    "---\n",
    "#### Your goals should be to:\n",
    "* Practice python programming including loops, conditionals, types, functions, and data structures\n",
    "* Start thinking critically about manipulating, organizing, and interpreting data\n",
    "* Troubleshoot errors\n",
    "\n",
    "---\n",
    "#### Getting Started:\n",
    "* **fork** the repository on git.generalassemb.ly\n",
    "* **clone** your forked repo\n",
    "\n",
    "---\n",
    "#### Submission:\n",
    "* You should be working on a **fork** of the GA project one repository. \n",
    "* Use **git** to manage versions of your project. Make sure to `add`, `commit`, and `push` your changes to **your fork** of the github \n",
    "* Submit a link to your project repository in the submission form by **Friday, 9/29 11:59 PM**. You will then receive the solutions.\n",
    "* Create a copy of your original notebook (file > make a copy in jupyter notebook)\n",
    "* In the copy, use the solutions to correct your work. Make sure to take note of your successes and struggles. Did you learn anything new from correcting your work?\n",
    "* Submit the corrected version by **Sunday, 10/1 11:59 PM** to receive instructor feedback on your work. ***Projects submitted after this deadline will not receive instructor feedback.***"
   ]
  },
  {
   "cell_type": "markdown",
   "metadata": {},
   "source": [
    "### Considerations:\n",
    "\n",
    "* You will be generating long data strutures- avoid displaying the whole thing. Display just the first or last few entries and look at the length or shape to check whether your code gives you back what you want and expect.\n",
    "* Make functions whenever possiblle!\n",
    "* Be explicit with your naming. You may forget what `this_list` is, but you will have an idea of what `passenger_fare_list` is. Variable naming will help you in the long run!\n",
    "* Don't forget about tab autocomplete!\n",
    "* Use markdown cells to document your planning, thoughts, and results. \n",
    "* Delete cells you will not include in your final submission\n",
    "* Try to solve your own problems using this framework:\n",
    "  1. Check your spelling\n",
    "  2. Google your errors. Is it on stackoverflow?\n",
    "  3. Ask your classmates\n",
    "  4. Ask a TA or instructor\n",
    "* Do not include errors or stack traces (fix them!)"
   ]
  },
  {
   "cell_type": "markdown",
   "metadata": {},
   "source": [
    "# 1. Using the `with open()` method in the `csv` library, load the titanic dataset into a list of lists.\n",
    "\n",
    "* The `type()` of your dataset should be `list`\n",
    "* The `type()` of each element in your dataset should also be `list`\n",
    "* The `len()` of your dataset should be 892 (892 rows, including the header)\n",
    "* The `len()` of each row element in your dataset should be have a `len()` of 12\n",
    "* Print out the first 3 rows including the header to check your data."
   ]
  },
  {
   "cell_type": "code",
   "execution_count": 1,
   "metadata": {
    "collapsed": true
   },
   "outputs": [],
   "source": [
    "import csv\n",
    "from IPython.display import display\n",
    "import numpy as np"
   ]
  },
  {
   "cell_type": "code",
   "execution_count": 2,
   "metadata": {
    "collapsed": true
   },
   "outputs": [],
   "source": [
    "def change_delim(line):\n",
    "    '''\n",
    "    Flips all delimiters not in quoted text to pipes\n",
    "    '''\n",
    "        name_delim_flag = False\n",
    "        return_line = ''\n",
    "        for line_char in line:\n",
    "            if line_char == '\"':\n",
    "                name_delim_flag = not name_delim_flag\n",
    "            elif line_char == ',' and name_delim_flag == False:\n",
    "                return_line += '|'\n",
    "            else:\n",
    "                return_line += line_char\n",
    "                \n",
    "        return return_line"
   ]
  },
  {
   "cell_type": "code",
   "execution_count": 3,
   "metadata": {},
   "outputs": [
    {
     "name": "stdout",
     "output_type": "stream",
     "text": [
      "PassengerId,Survived,Pclass,Name,Sex,Age,SibSp,Parch,Ticket,Fare,Cabin,Embarked\n",
      "1,0,3,\"Braund, Mr. Owen Harris\",male,22,1,0,A/5 21171,7.25,,S\n",
      "2,1,1,\"Cumings, Mrs. John Bradley (Florence Briggs Thayer)\",female,38,1,0,PC 17599,71.2833,C85,C\n"
     ]
    }
   ],
   "source": [
    "raw_ds = ''\n",
    "titanic_file = 'titanic.csv'\n",
    "with open(titanic_file, 'r') as f:\n",
    "    raw_ds = f.read()\n",
    "\n",
    "ds_line = raw_ds.split('\\n')\n",
    "\n",
    "titanic_ds = []\n",
    "count = 0\n",
    "for line in ds_line:\n",
    "    if count < 3:\n",
    "        print(line)\n",
    "        \n",
    "    count += 1\n",
    "    if line != '':\n",
    "        line_mod = change_delim(line)\n",
    "        titanic_ds.append(line_mod.split('|'))"
   ]
  },
  {
   "cell_type": "markdown",
   "metadata": {},
   "source": [
    "# 2. Separate the first header row from the rest of your dataset. \n",
    "\n",
    "* The header should be a list of the column names\n",
    "* The data should be the rest of your data\n",
    "* Display the header and the first row of the dataset zipped together using `zip`\n",
    "* Your result should look like...\n",
    "\n",
    "\n",
    "```\n",
    "[('PassengerId', '1'),\n",
    " ('Survived', '0'),\n",
    " ('Pclass', '3'),\n",
    " ...\n",
    " ('Embarked', 'S')]\n",
    " ```"
   ]
  },
  {
   "cell_type": "code",
   "execution_count": 4,
   "metadata": {
    "collapsed": true
   },
   "outputs": [],
   "source": [
    "# Your code here\n",
    "header = titanic_ds[0]\n",
    "data = [list(zip(header, titanic_ds[i])) for i in range(1, len(titanic_ds))]"
   ]
  },
  {
   "cell_type": "markdown",
   "metadata": {},
   "source": [
    "# 3. Using a `for` loop, load your data into a `dict` called `data_dict`.\n",
    "\n",
    "* The keys of your `data_dict` should be `PassengerId`\n",
    "* The values of your `data_dict` should be dictionaries...\n",
    "  * Each of these dictionaries should reperesent a column value within a row\n",
    "  * The keys should be the names of the columns\n",
    "  * The values should be the values of that column\n",
    "  \n",
    "The beginning of your `data_dict` should look like: \n",
    "\n",
    "    {'1': {'Age': '22',\n",
    "      'Cabin': '',\n",
    "      'Embarked': 'S',\n",
    "      'Fare': '7.25',\n",
    "      'Name': 'Braund, Mr. Owen Harris',\n",
    "      'Parch': '0',\n",
    "      'Pclass': '3',\n",
    "      'Sex': 'male',\n",
    "      'SibSp': '1',\n",
    "      'Survived': '0',\n",
    "      'Ticket': 'A/5 21171'},\n",
    "     '10': {'Age': '14',\n",
    "      'Cabin': '',\n",
    "      'Embarked': 'C',\n",
    "      'Fare': '30.0708',\n",
    "      'Name': 'Nasser, Mrs. Nicholas (Adele Achem)',\n",
    "      'Parch': '0',\n",
    "      'Pclass': '2',\n",
    "      'Sex': 'female',\n",
    "      'SibSp': '1',\n",
    "      'Survived': '1',\n",
    "      'Ticket': '237736'},\n",
    "      ...\n",
    "      }"
   ]
  },
  {
   "cell_type": "code",
   "execution_count": 5,
   "metadata": {
    "collapsed": true
   },
   "outputs": [],
   "source": [
    "data_dict = {}\n",
    "\n",
    "for data_element in list(data):\n",
    "    data_dict_key = ''\n",
    "    inner_dict = {}\n",
    "    for data_list_tuple in data_element:\n",
    "        if data_list_tuple[0] == 'PassengerId':\n",
    "            data_dict_key = data_list_tuple[1]\n",
    "        else:\n",
    "            inner_dict[data_list_tuple[0]] = data_list_tuple[1]\n",
    "    \n",
    "    data_dict[data_dict_key] = inner_dict"
   ]
  },
  {
   "cell_type": "markdown",
   "metadata": {},
   "source": [
    "# 4. Repeat step 3 using a dictionary comprehension.\n",
    "\n",
    "* Using `==`, check if your `data_dict` from your `for` loop is the same as the one from your dictionary comprehension."
   ]
  },
  {
   "cell_type": "code",
   "execution_count": 6,
   "metadata": {
    "collapsed": true
   },
   "outputs": [],
   "source": [
    "key_list = [value for element in data for key, value in element if key == 'PassengerId']\n",
    "value_dict = [{key2: value2 for key2, value2 in element2 if key2 != 'PassengerId'} for element2 in data]\n",
    "\n",
    "data_dict_comp = dict(list(zip(key_list, value_dict)))"
   ]
  },
  {
   "cell_type": "markdown",
   "metadata": {},
   "source": [
    "# 5. Transform your `data_dict` to be oriented by column and call it `data_dict_columns`\n",
    "\n",
    "* Currently, our `data_dict` is oriented by row, indexed by `\"PassengerId\"`. \n",
    "* Transform your data so that the title of each row is a key, the values are of type `list` and represent column vectors.\n",
    "\n",
    "If you display `data_dict_columns`, the beginning should look like...\n",
    "\n",
    "    {'Age': ['25',\n",
    "      '36',\n",
    "      '24',\n",
    "      '40',\n",
    "      '45',\n",
    "      '2',\n",
    "      '24',\n",
    "      '28',\n",
    "      '33',\n",
    "      '26',\n",
    "      '39',\n",
    "      ..."
   ]
  },
  {
   "cell_type": "code",
   "execution_count": 7,
   "metadata": {
    "collapsed": true
   },
   "outputs": [],
   "source": [
    "data_dict_columns = {key : [] for key in header}\n",
    "\n",
    "for k, v in data_dict_comp.items():\n",
    "    data_dict_columns['PassengerId'].append(k)\n",
    "    for k2, v2 in v.items():\n",
    "        data_dict_columns[k2].append(v2)"
   ]
  },
  {
   "cell_type": "markdown",
   "metadata": {},
   "source": [
    "# 6. Data Types\n",
    "\n",
    "What is the current `type` of each column? What do you think the data type of each column *should* be? The data types in Python are...\n",
    "\n",
    "* `int`\n",
    "* `float`\n",
    "* `str`\n",
    "* `bool`\n",
    "* `tuple`\n",
    "* `list`\n",
    "* `dict`\n",
    "* `set`\n",
    "\n",
    "In a markdown cell, describe what each column represents and what the `type` of each value should be. **Extra:** If you want to be fancy, use a [markdown table](https://github.com/adam-p/markdown-here/wiki/Markdown-Cheatsheet#tables) to display your results."
   ]
  },
  {
   "cell_type": "code",
   "execution_count": 8,
   "metadata": {},
   "outputs": [
    {
     "name": "stdout",
     "output_type": "stream",
     "text": [
      "Column PassengerId has the following class: <class 'str'>\n",
      "Column Survived has the following class: <class 'str'>\n",
      "Column Pclass has the following class: <class 'str'>\n",
      "Column Name has the following class: <class 'str'>\n",
      "Column Sex has the following class: <class 'str'>\n",
      "Column Age has the following class: <class 'str'>\n",
      "Column SibSp has the following class: <class 'str'>\n",
      "Column Parch has the following class: <class 'str'>\n",
      "Column Ticket has the following class: <class 'str'>\n",
      "Column Fare has the following class: <class 'str'>\n",
      "Column Cabin has the following class: <class 'str'>\n",
      "Column Embarked has the following class: <class 'str'>\n"
     ]
    }
   ],
   "source": [
    "for key, value in data_dict_columns.items():\n",
    "    print (\"Column\", key, \"has the following class:\", type(value[0]))"
   ]
  },
  {
   "cell_type": "markdown",
   "metadata": {},
   "source": [
    "#### Your answer here (double click here to edit this markdown cell, and press shift-enter exit edit mode!): \n",
    "\n",
    "##### <font color='green'>Andy's response: All columns are lists of strings."
   ]
  },
  {
   "cell_type": "markdown",
   "metadata": {},
   "source": [
    "# 7. Transform each column to the appropriate type if needed.\n",
    "\n",
    "Build a function called `transform_column` that takes arguments for a `data_dict`, `column_name`, and `datatype`, and use it to transofm the columns that need transformation.\n",
    "\n",
    "**NOTE:** There are values in this dataset that cannot be directly cast to a numerical value. Use `if/then` or `try/except` statements to handle errors. \n",
    "\n",
    "**To help identify potential sources of errors, explore the `set` of values in each column.**"
   ]
  },
  {
   "cell_type": "code",
   "execution_count": 10,
   "metadata": {},
   "outputs": [],
   "source": [
    "def transform_column(data_dict, column_name, datatype):\n",
    "    temp_list = []\n",
    "    try:\n",
    "        for element in data_dict[column_name]:\n",
    "            if element != '':\n",
    "                temp_list.append(datatype(element))\n",
    "            else:\n",
    "                temp_list.append(datatype('-1'))  # Assigns null or invalid values to be -1, to be excluded from later analysis\n",
    "        \n",
    "        data_dict[column_name] = temp_list\n",
    "    except:\n",
    "        print(\"Could not transform column\", column_name, \"to\", datatype)\n",
    "\n"
   ]
  },
  {
   "cell_type": "markdown",
   "metadata": {},
   "source": [
    "# 8. Build functions to calculate the mean, sample standard deviation, and median of a list of ints or floats. Use `scipy.stats.mode` or build your own mode function!\n",
    "\n",
    "\n",
    "If you filled any missing values with `np.NaN`, you may need to handle that in your functions (look up `np.isnan()`).\n",
    "\n",
    "If building a `mode` function is too difficult, you import mode from `scipy.stats` using `from scipy.stats import mode`.\n",
    "\n",
    "**Optional:**  Build a function for calculating the Mode that returns the mode value *and* the count of that value. Mode is tricky, so start by building a function that counts the occurances of each value. You may also need to sort using a `key` with a `lambda function` inside. You may also find a `defaultdict` useful."
   ]
  },
  {
   "cell_type": "markdown",
   "metadata": {},
   "source": [
    "Mean"
   ]
  },
  {
   "cell_type": "code",
   "execution_count": 11,
   "metadata": {
    "collapsed": true
   },
   "outputs": [],
   "source": [
    "def valid_data(data_list):\n",
    "        temp_data = []\n",
    "        for element in data_list:\n",
    "            if element >= 0:\n",
    "                temp_data.append(element)\n",
    "        \n",
    "        return temp_data\n",
    "\n",
    "def this_mean(data_list):\n",
    "    try:\n",
    "        temp_data = valid_data(data_list)\n",
    "        data_sum = sum(temp_data)\n",
    "        data_size = len(temp_data)\n",
    "        return data_sum / data_size\n",
    "    except:\n",
    "        print(\"Mean could not be calculated\")\n",
    "        return -1"
   ]
  },
  {
   "cell_type": "markdown",
   "metadata": {},
   "source": [
    "Standard Deviation"
   ]
  },
  {
   "cell_type": "code",
   "execution_count": 12,
   "metadata": {
    "collapsed": true
   },
   "outputs": [],
   "source": [
    "def this_std(data_list):\n",
    "    try:\n",
    "        temp_data = valid_data(data_list)\n",
    "        sum_diff_of_sq = 0\n",
    "        data_size = len(temp_data)\n",
    "        data_mean = this_mean(temp_data)\n",
    "        \n",
    "        for element in temp_data:\n",
    "            diff_of_sq = (element - data_mean) ** 2\n",
    "            sum_diff_of_sq += diff_of_sq\n",
    "            \n",
    "        return (sum_diff_of_sq / data_size) ** 0.5\n",
    "    except:\n",
    "        print(\"Standard deviation could not be calculated\")\n",
    "        return -1"
   ]
  },
  {
   "cell_type": "markdown",
   "metadata": {},
   "source": [
    "Median"
   ]
  },
  {
   "cell_type": "code",
   "execution_count": 13,
   "metadata": {
    "collapsed": true
   },
   "outputs": [],
   "source": [
    "def this_median(data_list):\n",
    "    try:\n",
    "        temp_list = valid_data(data_list)\n",
    "        list_size = len(temp_list)\n",
    "\n",
    "        temp_list.sort()\n",
    "        midpoint = int(list_size / 2)\n",
    "\n",
    "        if list_size % 2 == 1:\n",
    "            return temp_list[midpoint]\n",
    "        else:\n",
    "            return this_mean(temp_list[midpoint-1:midpoint+1])\n",
    "    except: \n",
    "        print(\"Median could not be calculated\")\n",
    "        return -1"
   ]
  },
  {
   "cell_type": "markdown",
   "metadata": {},
   "source": [
    "Mode"
   ]
  },
  {
   "cell_type": "code",
   "execution_count": 14,
   "metadata": {
    "collapsed": true
   },
   "outputs": [],
   "source": [
    "from scipy.stats import mode\n",
    "\n",
    "def this_mode(data_list):\n",
    "    try:\n",
    "        temp_list = valid_data(data_list)\n",
    "        return mode(temp_list)\n",
    "    except:\n",
    "        print(\"Mode could not be calculated\")\n",
    "        return -1"
   ]
  },
  {
   "cell_type": "markdown",
   "metadata": {},
   "source": [
    "# 9. Summary Statistics of Numerical Columns\n",
    "\n",
    "For numerical columns, what is the mean, standard deviation, mean, and mode for that data? Which measure of central tendency is the most descriptive of each column? Why? Explain your answer in a markdown cell."
   ]
  },
  {
   "cell_type": "code",
   "execution_count": 15,
   "metadata": {},
   "outputs": [
    {
     "name": "stdout",
     "output_type": "stream",
     "text": [
      "Survived statistics:\n",
      "--------------------\n",
      "Mean: 0.3838383838383838\n",
      "Standard deviation: 0.48631931786710086\n",
      "Median: 0.0\n",
      "ModeResult(mode=array([ 0.]), count=array([549]))\n",
      "\n",
      "Fare statistics:\n",
      "--------------------\n",
      "Mean: 32.2042079685746\n",
      "Standard deviation: 49.66553444477411\n",
      "Median: 14.4542\n",
      "ModeResult(mode=array([ 8.05]), count=array([43]))\n",
      "\n",
      "Age statistics:\n",
      "--------------------\n",
      "Mean: 29.69911764705882\n",
      "Standard deviation: 14.516321150817317\n",
      "Median: 28.0\n",
      "ModeResult(mode=array([ 24.]), count=array([30]))\n",
      "\n"
     ]
    }
   ],
   "source": [
    "for element in ['Survived', 'Fare', 'Age']:\n",
    "    print(element, 'statistics:')\n",
    "    print('--------------------')\n",
    "    print('Mean:', this_mean(data_dict_columns[element]))\n",
    "    print('Standard deviation:', this_std(data_dict_columns[element]))\n",
    "    print('Median:', this_median(data_dict_columns[element]))\n",
    "    print(this_mode(data_dict_columns[element]))\n",
    "    print()"
   ]
  },
  {
   "cell_type": "markdown",
   "metadata": {},
   "source": [
    "Your markdown response here\n",
    "\n",
    "** <font color='green'>Andy's response: **\n",
    "\n",
    "** <font color='green'>For survival, the mean is most descriptive, as it indicates a survival rate of 38%. Additionally, the mode supports the survival rate, as it indicates that 549 passengers out of 891 did not survive.  **\n",
    "\n",
    "** <font color='green'>For fares, the median is most descriptive, since it falls into the middle of the distribution.  Because the mean is higher than the median, the distribution of fares is skewed left, indicating that many tickets purchased had high fares.  In regards to the mode, though 8.05 was the most commonly occurring fare, this fare only represents about 5% of total tickets purchased, so no conclusions can be drawn from the mode alone. **\n",
    "\n",
    "** <font color='green'>For age, the mode shows that the data is missing age infornation for 177 passengers (approximately 20%), so it would be difficult to draw meaningful conclusions for age, unless passengers with missing age were excluded. **"
   ]
  },
  {
   "cell_type": "markdown",
   "metadata": {},
   "source": [
    "# 10. Splitting the Data to Predicting Survival\n",
    "\n",
    "For all the passengers in the dataset, the mean survival rate is around .38 (38% of the passengers survived). From our data, we may be able to profile who survived and who didn't!\n",
    "\n",
    "Split the data by pclass. Does the class a passenger was in affect survivability? You can do this by:\n",
    "* Creating a list of `True` and `False` values conditional on a column's value\n",
    "* Taking the mean of the `Survived` column where those values are `True`"
   ]
  },
  {
   "cell_type": "code",
   "execution_count": 44,
   "metadata": {},
   "outputs": [
    {
     "name": "stdout",
     "output_type": "stream",
     "text": [
      "Survival rate of Pclass\t\n"
     ]
    },
    {
     "data": {
      "text/plain": [
       "{('1',): 0.1526374859708193,\n",
       " ('2',): 0.09764309764309764,\n",
       " ('3',): 0.1335578002244669}"
      ]
     },
     "execution_count": 44,
     "metadata": {},
     "output_type": "execute_result"
    }
   ],
   "source": [
    "import itertools as it\n",
    "\n",
    "def survival_rate_tree(data_dict, cols):\n",
    "    '''\n",
    "    Calculates survival rate for one or multiple columns\n",
    "    '''\n",
    "    col_dict = {}\n",
    "    return_dict = {}\n",
    "    \n",
    "    # Determines all unique combinations of all column values\n",
    "    for col in cols:\n",
    "        col_dict[col] = sorted(list(set(data_dict[col])))   \n",
    "\n",
    "    combinations = it.product(*(col_dict[key] for key in col_dict.keys()))\n",
    "    surv_bool = [element == 1 for element in data_dict['Survived']]\n",
    "    \n",
    "    for combination in combinations:\n",
    "        my_bool = [True for i in range(len(surv_bool))]\n",
    "        \n",
    "        # iterative masking for all values in combination\n",
    "        for i in range(len(combination)):\n",
    "            cols_i = cols[i]\n",
    "            data_dict_col_i = data_dict[cols_i]\n",
    "            data_dict_col_bool = [element == combination[i] for element in data_dict_col_i]\n",
    "            my_bool = [data_dict_col_bool[i] == True and my_bool[i] == True for i in range(len(my_bool))]\n",
    "            \n",
    "        if len(cols) > 1:\n",
    "            denom = sum(my_bool)\n",
    "        else:\n",
    "            denom = len(my_bool)\n",
    "        \n",
    "        # additional masking with survival data\n",
    "        my_bool = [surv_bool[i] == True and my_bool[i] == True for i in range(len(my_bool))]\n",
    "            \n",
    "        if denom == 0:\n",
    "            return_dict[combination] = 0\n",
    "        else:\n",
    "            return_dict[combination] = sum(my_bool) / denom\n",
    "    \n",
    "    return return_dict\n",
    "\n",
    "cols = ['Pclass']\n",
    "slice_and_dice = survival_rate_tree(data_dict_columns, cols)\n",
    "\n",
    "print_cols = ''\n",
    "for col in cols:\n",
    "    print_cols += col+'\\t'\n",
    "    \n",
    "print('Survival rate of', print_cols)    \n",
    "slice_and_dice"
   ]
  },
  {
   "cell_type": "markdown",
   "metadata": {},
   "source": [
    "# 11. Independent Work\n",
    "\n",
    "Use the techniques from step 10 to make different conditional splits in the `Survived` column. Can you find a combination of splits that maximizes the survival rate?\n",
    "\n",
    "** <font color='green'>Andy's response: Of all female passengers in PClass 1, 97% survived. **"
   ]
  },
  {
   "cell_type": "code",
   "execution_count": 26,
   "metadata": {},
   "outputs": [
    {
     "name": "stdout",
     "output_type": "stream",
     "text": [
      "Survival rate of Pclass, Sex\n"
     ]
    },
    {
     "data": {
      "text/plain": [
       "{('1', 'female'): 0.9680851063829787,\n",
       " ('1', 'male'): 0.36885245901639346,\n",
       " ('2', 'female'): 0.9210526315789473,\n",
       " ('2', 'male'): 0.1574074074074074,\n",
       " ('3', 'female'): 0.5,\n",
       " ('3', 'male'): 0.13544668587896252}"
      ]
     },
     "execution_count": 26,
     "metadata": {},
     "output_type": "execute_result"
    }
   ],
   "source": [
    "cols = ['Pclass', 'Sex']\n",
    "slice_and_dice = survival_rate_tree(data_dict_columns, cols)\n",
    "\n",
    "print_cols = 'Survival rate of '\n",
    "for col in cols:\n",
    "    print_cols += col+', '\n",
    "    \n",
    "print_cols = print_cols[:-2]\n",
    "    \n",
    "print(print_cols)    \n",
    "slice_and_dice  \n"
   ]
  },
  {
   "cell_type": "markdown",
   "metadata": {},
   "source": [
    "# 12. Distributions\n",
    "\n",
    "### A) For each of your numeric features, use `pyplot` subplots to plot a hisogram for each feature.\n",
    "\n",
    "* Make sure to title each subplot.\n",
    "* If you get an error, it may be caused by `np.NaN`"
   ]
  },
  {
   "cell_type": "code",
   "execution_count": 29,
   "metadata": {
    "collapsed": true
   },
   "outputs": [],
   "source": [
    "import matplotlib.pyplot as plt\n",
    "%matplotlib inline"
   ]
  },
  {
   "cell_type": "code",
   "execution_count": 30,
   "metadata": {},
   "outputs": [
    {
     "data": {
      "image/png": "[encoded data removed]",
      "text/plain": [
       "<matplotlib.figure.Figure at 0x7fbc4d962588>"
      ]
     },
     "metadata": {},
     "output_type": "display_data"
    }
   ],
   "source": [
    "fig = plt.figure(figsize=(15,3))\n",
    "plot_info = [(data_dict_columns['Survived'], 'Passengers Survived Histogram', 'Passengers Survived Indicator', 'Count'), \n",
    "    (data_dict_columns['Fare'], 'Fare Histogram', 'Fare', 'Count'), \n",
    "    (data_dict_columns['Age'], 'Age Histogram', 'Age', 'Count')]\n",
    "\n",
    "for i, (data_list, title, x_label, y_label) in enumerate(plot_info):\n",
    "    temp_data = valid_data(data_list)  # Removes null and invalid data values such as -1 \n",
    "    \n",
    "    bin_size = int(np.sqrt(len(temp_data)))\n",
    "    fig.add_subplot(1,3,1+i)\n",
    "    plt.hist(temp_data, bins=bin_size)\n",
    "    plt.title(title)\n",
    "    plt.xlabel(x_label)\n",
    "    plt.ylabel(y_label)"
   ]
  },
  {
   "cell_type": "markdown",
   "metadata": {},
   "source": [
    "### B) for each of these values, what's the 90% confidence interval of the population mean?\n",
    "\n",
    "* Create a function to find the confidence interval, and use it on each of the numeric columns.\n",
    "* What's your interpretation of the interval?"
   ]
  },
  {
   "cell_type": "code",
   "execution_count": 31,
   "metadata": {},
   "outputs": [
    {
     "name": "stdout",
     "output_type": "stream",
     "text": [
      "The 90% confidence interval of Survived data = (0.3570399183831679, 0.41063684929359973)\n",
      "The 90% confidence interval of Fare data = (29.467405089819053, 34.941010847330148)\n",
      "The 90% confidence interval of Age data = (28.8055350160034, 30.59270027811424)\n"
     ]
    }
   ],
   "source": [
    "from scipy import stats\n",
    "\n",
    "def standard_error(dist):\n",
    "    return this_std(dist) / np.sqrt(len(dist))\n",
    "\n",
    "def zscore_from_confidence(conf):\n",
    "    alpha = 1-conf\n",
    "    half_alpha = alpha / 2\n",
    "    return stats.norm.ppf(half_alpha)\n",
    "\n",
    "def confidence_interval_of_mean(distribution, confidence):\n",
    "    lower_bound = this_mean(distribution) + zscore_from_confidence(confidence) * standard_error(distribution)\n",
    "    upper_bound = this_mean(distribution) - zscore_from_confidence(confidence) * standard_error(distribution)\n",
    "    return lower_bound, upper_bound\n",
    "\n",
    "for element in ['Survived', 'Fare', 'Age']:\n",
    "    temp_data = valid_data(data_dict_columns[element]) # Removes null and invalid data values such as -1\n",
    "    print('The 90% confidence interval of', element, 'data =', confidence_interval_of_mean(temp_data, .9))\n"
   ]
  },
  {
   "cell_type": "markdown",
   "metadata": {},
   "source": [
    "# 13. Pandas"
   ]
  },
  {
   "cell_type": "markdown",
   "metadata": {},
   "source": [
    "### A: Load the titanic csv into a `DataFrame` using `pd.read_csv()`"
   ]
  },
  {
   "cell_type": "code",
   "execution_count": 32,
   "metadata": {
    "collapsed": true
   },
   "outputs": [],
   "source": [
    "import pandas as pd"
   ]
  },
  {
   "cell_type": "code",
   "execution_count": 33,
   "metadata": {
    "collapsed": true
   },
   "outputs": [],
   "source": [
    "titanic_df = pd.read_csv('titanic.csv')"
   ]
  },
  {
   "cell_type": "markdown",
   "metadata": {},
   "source": [
    "### B: Display the first 5 rows, the last 4 rows, and a sample of 3 rows."
   ]
  },
  {
   "cell_type": "code",
   "execution_count": 34,
   "metadata": {},
   "outputs": [
    {
     "data": {
      "text/html": [
       "<div>\n",
       "<table border=\"1\" class=\"dataframe\">\n",
       "  <thead>\n",
       "    <tr style=\"text-align: right;\">\n",
       "      <th></th>\n",
       "      <th>PassengerId</th>\n",
       "      <th>Survived</th>\n",
       "      <th>Pclass</th>\n",
       "      <th>Name</th>\n",
       "      <th>Sex</th>\n",
       "      <th>Age</th>\n",
       "      <th>SibSp</th>\n",
       "      <th>Parch</th>\n",
       "      <th>Ticket</th>\n",
       "      <th>Fare</th>\n",
       "      <th>Cabin</th>\n",
       "      <th>Embarked</th>\n",
       "    </tr>\n",
       "  </thead>\n",
       "  <tbody>\n",
       "    <tr>\n",
       "      <th>0</th>\n",
       "      <td>1</td>\n",
       "      <td>0</td>\n",
       "      <td>3</td>\n",
       "      <td>Braund, Mr. Owen Harris</td>\n",
       "      <td>male</td>\n",
       "      <td>22.0</td>\n",
       "      <td>1</td>\n",
       "      <td>0</td>\n",
       "      <td>A/5 21171</td>\n",
       "      <td>7.2500</td>\n",
       "      <td>NaN</td>\n",
       "      <td>S</td>\n",
       "    </tr>\n",
       "    <tr>\n",
       "      <th>1</th>\n",
       "      <td>2</td>\n",
       "      <td>1</td>\n",
       "      <td>1</td>\n",
       "      <td>Cumings, Mrs. John Bradley (Florence Briggs Th...</td>\n",
       "      <td>female</td>\n",
       "      <td>38.0</td>\n",
       "      <td>1</td>\n",
       "      <td>0</td>\n",
       "      <td>PC 17599</td>\n",
       "      <td>71.2833</td>\n",
       "      <td>C85</td>\n",
       "      <td>C</td>\n",
       "    </tr>\n",
       "    <tr>\n",
       "      <th>2</th>\n",
       "      <td>3</td>\n",
       "      <td>1</td>\n",
       "      <td>3</td>\n",
       "      <td>Heikkinen, Miss. Laina</td>\n",
       "      <td>female</td>\n",
       "      <td>26.0</td>\n",
       "      <td>0</td>\n",
       "      <td>0</td>\n",
       "      <td>STON/O2. 3101282</td>\n",
       "      <td>7.9250</td>\n",
       "      <td>NaN</td>\n",
       "      <td>S</td>\n",
       "    </tr>\n",
       "    <tr>\n",
       "      <th>3</th>\n",
       "      <td>4</td>\n",
       "      <td>1</td>\n",
       "      <td>1</td>\n",
       "      <td>Futrelle, Mrs. Jacques Heath (Lily May Peel)</td>\n",
       "      <td>female</td>\n",
       "      <td>35.0</td>\n",
       "      <td>1</td>\n",
       "      <td>0</td>\n",
       "      <td>113803</td>\n",
       "      <td>53.1000</td>\n",
       "      <td>C123</td>\n",
       "      <td>S</td>\n",
       "    </tr>\n",
       "    <tr>\n",
       "      <th>4</th>\n",
       "      <td>5</td>\n",
       "      <td>0</td>\n",
       "      <td>3</td>\n",
       "      <td>Allen, Mr. William Henry</td>\n",
       "      <td>male</td>\n",
       "      <td>35.0</td>\n",
       "      <td>0</td>\n",
       "      <td>0</td>\n",
       "      <td>373450</td>\n",
       "      <td>8.0500</td>\n",
       "      <td>NaN</td>\n",
       "      <td>S</td>\n",
       "    </tr>\n",
       "  </tbody>\n",
       "</table>\n",
       "</div>"
      ],
      "text/plain": [
       "   PassengerId  Survived  Pclass  \\\n",
       "0            1         0       3   \n",
       "1            2         1       1   \n",
       "2            3         1       3   \n",
       "3            4         1       1   \n",
       "4            5         0       3   \n",
       "\n",
       "                                                Name     Sex   Age  SibSp  \\\n",
       "0                            Braund, Mr. Owen Harris    male  22.0      1   \n",
       "1  Cumings, Mrs. John Bradley (Florence Briggs Th...  female  38.0      1   \n",
       "2                             Heikkinen, Miss. Laina  female  26.0      0   \n",
       "3       Futrelle, Mrs. Jacques Heath (Lily May Peel)  female  35.0      1   \n",
       "4                           Allen, Mr. William Henry    male  35.0      0   \n",
       "\n",
       "   Parch            Ticket     Fare Cabin Embarked  \n",
       "0      0         A/5 21171   7.2500   NaN        S  \n",
       "1      0          PC 17599  71.2833   C85        C  \n",
       "2      0  STON/O2. 3101282   7.9250   NaN        S  \n",
       "3      0            113803  53.1000  C123        S  \n",
       "4      0            373450   8.0500   NaN        S  "
      ]
     },
     "execution_count": 34,
     "metadata": {},
     "output_type": "execute_result"
    }
   ],
   "source": [
    "titanic_df.head() # First 5 rows"
   ]
  },
  {
   "cell_type": "code",
   "execution_count": 35,
   "metadata": {},
   "outputs": [
    {
     "data": {
      "text/html": [
       "<div>\n",
       "<table border=\"1\" class=\"dataframe\">\n",
       "  <thead>\n",
       "    <tr style=\"text-align: right;\">\n",
       "      <th></th>\n",
       "      <th>PassengerId</th>\n",
       "      <th>Survived</th>\n",
       "      <th>Pclass</th>\n",
       "      <th>Name</th>\n",
       "      <th>Sex</th>\n",
       "      <th>Age</th>\n",
       "      <th>SibSp</th>\n",
       "      <th>Parch</th>\n",
       "      <th>Ticket</th>\n",
       "      <th>Fare</th>\n",
       "      <th>Cabin</th>\n",
       "      <th>Embarked</th>\n",
       "    </tr>\n",
       "  </thead>\n",
       "  <tbody>\n",
       "    <tr>\n",
       "      <th>887</th>\n",
       "      <td>888</td>\n",
       "      <td>1</td>\n",
       "      <td>1</td>\n",
       "      <td>Graham, Miss. Margaret Edith</td>\n",
       "      <td>female</td>\n",
       "      <td>19.0</td>\n",
       "      <td>0</td>\n",
       "      <td>0</td>\n",
       "      <td>112053</td>\n",
       "      <td>30.00</td>\n",
       "      <td>B42</td>\n",
       "      <td>S</td>\n",
       "    </tr>\n",
       "    <tr>\n",
       "      <th>888</th>\n",
       "      <td>889</td>\n",
       "      <td>0</td>\n",
       "      <td>3</td>\n",
       "      <td>Johnston, Miss. Catherine Helen \"Carrie\"</td>\n",
       "      <td>female</td>\n",
       "      <td>NaN</td>\n",
       "      <td>1</td>\n",
       "      <td>2</td>\n",
       "      <td>W./C. 6607</td>\n",
       "      <td>23.45</td>\n",
       "      <td>NaN</td>\n",
       "      <td>S</td>\n",
       "    </tr>\n",
       "    <tr>\n",
       "      <th>889</th>\n",
       "      <td>890</td>\n",
       "      <td>1</td>\n",
       "      <td>1</td>\n",
       "      <td>Behr, Mr. Karl Howell</td>\n",
       "      <td>male</td>\n",
       "      <td>26.0</td>\n",
       "      <td>0</td>\n",
       "      <td>0</td>\n",
       "      <td>111369</td>\n",
       "      <td>30.00</td>\n",
       "      <td>C148</td>\n",
       "      <td>C</td>\n",
       "    </tr>\n",
       "    <tr>\n",
       "      <th>890</th>\n",
       "      <td>891</td>\n",
       "      <td>0</td>\n",
       "      <td>3</td>\n",
       "      <td>Dooley, Mr. Patrick</td>\n",
       "      <td>male</td>\n",
       "      <td>32.0</td>\n",
       "      <td>0</td>\n",
       "      <td>0</td>\n",
       "      <td>370376</td>\n",
       "      <td>7.75</td>\n",
       "      <td>NaN</td>\n",
       "      <td>Q</td>\n",
       "    </tr>\n",
       "  </tbody>\n",
       "</table>\n",
       "</div>"
      ],
      "text/plain": [
       "     PassengerId  Survived  Pclass                                      Name  \\\n",
       "887          888         1       1              Graham, Miss. Margaret Edith   \n",
       "888          889         0       3  Johnston, Miss. Catherine Helen \"Carrie\"   \n",
       "889          890         1       1                     Behr, Mr. Karl Howell   \n",
       "890          891         0       3                       Dooley, Mr. Patrick   \n",
       "\n",
       "        Sex   Age  SibSp  Parch      Ticket   Fare Cabin Embarked  \n",
       "887  female  19.0      0      0      112053  30.00   B42        S  \n",
       "888  female   NaN      1      2  W./C. 6607  23.45   NaN        S  \n",
       "889    male  26.0      0      0      111369  30.00  C148        C  \n",
       "890    male  32.0      0      0      370376   7.75   NaN        Q  "
      ]
     },
     "execution_count": 35,
     "metadata": {},
     "output_type": "execute_result"
    }
   ],
   "source": [
    "titanic_df.tail(4) # Last 4 rows"
   ]
  },
  {
   "cell_type": "code",
   "execution_count": 36,
   "metadata": {},
   "outputs": [
    {
     "data": {
      "text/html": [
       "<div>\n",
       "<table border=\"1\" class=\"dataframe\">\n",
       "  <thead>\n",
       "    <tr style=\"text-align: right;\">\n",
       "      <th></th>\n",
       "      <th>PassengerId</th>\n",
       "      <th>Survived</th>\n",
       "      <th>Pclass</th>\n",
       "      <th>Name</th>\n",
       "      <th>Sex</th>\n",
       "      <th>Age</th>\n",
       "      <th>SibSp</th>\n",
       "      <th>Parch</th>\n",
       "      <th>Ticket</th>\n",
       "      <th>Fare</th>\n",
       "      <th>Cabin</th>\n",
       "      <th>Embarked</th>\n",
       "    </tr>\n",
       "  </thead>\n",
       "  <tbody>\n",
       "    <tr>\n",
       "      <th>709</th>\n",
       "      <td>710</td>\n",
       "      <td>1</td>\n",
       "      <td>3</td>\n",
       "      <td>Moubarek, Master. Halim Gonios (\"William George\")</td>\n",
       "      <td>male</td>\n",
       "      <td>NaN</td>\n",
       "      <td>1</td>\n",
       "      <td>1</td>\n",
       "      <td>2661</td>\n",
       "      <td>15.2458</td>\n",
       "      <td>NaN</td>\n",
       "      <td>C</td>\n",
       "    </tr>\n",
       "    <tr>\n",
       "      <th>439</th>\n",
       "      <td>440</td>\n",
       "      <td>0</td>\n",
       "      <td>2</td>\n",
       "      <td>Kvillner, Mr. Johan Henrik Johannesson</td>\n",
       "      <td>male</td>\n",
       "      <td>31.0</td>\n",
       "      <td>0</td>\n",
       "      <td>0</td>\n",
       "      <td>C.A. 18723</td>\n",
       "      <td>10.5000</td>\n",
       "      <td>NaN</td>\n",
       "      <td>S</td>\n",
       "    </tr>\n",
       "    <tr>\n",
       "      <th>840</th>\n",
       "      <td>841</td>\n",
       "      <td>0</td>\n",
       "      <td>3</td>\n",
       "      <td>Alhomaki, Mr. Ilmari Rudolf</td>\n",
       "      <td>male</td>\n",
       "      <td>20.0</td>\n",
       "      <td>0</td>\n",
       "      <td>0</td>\n",
       "      <td>SOTON/O2 3101287</td>\n",
       "      <td>7.9250</td>\n",
       "      <td>NaN</td>\n",
       "      <td>S</td>\n",
       "    </tr>\n",
       "  </tbody>\n",
       "</table>\n",
       "</div>"
      ],
      "text/plain": [
       "     PassengerId  Survived  Pclass  \\\n",
       "709          710         1       3   \n",
       "439          440         0       2   \n",
       "840          841         0       3   \n",
       "\n",
       "                                                  Name   Sex   Age  SibSp  \\\n",
       "709  Moubarek, Master. Halim Gonios (\"William George\")  male   NaN      1   \n",
       "439             Kvillner, Mr. Johan Henrik Johannesson  male  31.0      0   \n",
       "840                        Alhomaki, Mr. Ilmari Rudolf  male  20.0      0   \n",
       "\n",
       "     Parch            Ticket     Fare Cabin Embarked  \n",
       "709      1              2661  15.2458   NaN        C  \n",
       "439      0        C.A. 18723  10.5000   NaN        S  \n",
       "840      0  SOTON/O2 3101287   7.9250   NaN        S  "
      ]
     },
     "execution_count": 36,
     "metadata": {},
     "output_type": "execute_result"
    }
   ],
   "source": [
    "np.random.seed(42)\n",
    "titanic_df.sample(3)"
   ]
  },
  {
   "cell_type": "markdown",
   "metadata": {},
   "source": [
    "### C: Create a row mask that is `True` when `Pclass == 3`. Use this to mask your `DataFrame`. Find the mean of the `Survived` column. Is it the same as what we calculated in part 10?\n",
    "\n",
    "#### <font color='green'>Andy's response: This is the same mean that was calculated in part 10."
   ]
  },
  {
   "cell_type": "code",
   "execution_count": 37,
   "metadata": {},
   "outputs": [
    {
     "data": {
      "text/plain": [
       "0.13355780022446689"
      ]
     },
     "execution_count": 37,
     "metadata": {},
     "output_type": "execute_result"
    }
   ],
   "source": [
    "titanic_df_surv_pclass3 = titanic_df.copy()\n",
    "pclass3_mask = titanic_df_surv_pclass3['Pclass'] == 3\n",
    "survived_mask = titanic_df_surv_pclass3['Survived'] == 1\n",
    "\n",
    "titanic_df_surv_pclass3['Survived_Pclass3'] = (pclass3_mask & survived_mask)\n",
    "titanic_df_surv_pclass3['Survived_Pclass3'].mean()"
   ]
  },
  {
   "cell_type": "markdown",
   "metadata": {},
   "source": [
    "### D: Using a `.groupby()`, what is the mean of the survival column grouped by `Pclass` and `Sex`. What are your observations?\n",
    "\n",
    "#### <font color='green'> Andy's response: For each sex, survival rate increases as Pclass value decreases.  In addition, across all Pclass values, more women than men survived."
   ]
  },
  {
   "cell_type": "code",
   "execution_count": 38,
   "metadata": {},
   "outputs": [
    {
     "data": {
      "text/html": [
       "<div>\n",
       "<table border=\"1\" class=\"dataframe\">\n",
       "  <thead>\n",
       "    <tr style=\"text-align: right;\">\n",
       "      <th></th>\n",
       "      <th></th>\n",
       "      <th>PassengerId</th>\n",
       "      <th>Survived</th>\n",
       "      <th>Age</th>\n",
       "      <th>SibSp</th>\n",
       "      <th>Parch</th>\n",
       "      <th>Fare</th>\n",
       "    </tr>\n",
       "    <tr>\n",
       "      <th>Pclass</th>\n",
       "      <th>Sex</th>\n",
       "      <th></th>\n",
       "      <th></th>\n",
       "      <th></th>\n",
       "      <th></th>\n",
       "      <th></th>\n",
       "      <th></th>\n",
       "    </tr>\n",
       "  </thead>\n",
       "  <tbody>\n",
       "    <tr>\n",
       "      <th rowspan=\"2\" valign=\"top\">1</th>\n",
       "      <th>female</th>\n",
       "      <td>469.212766</td>\n",
       "      <td>0.968085</td>\n",
       "      <td>34.611765</td>\n",
       "      <td>0.553191</td>\n",
       "      <td>0.457447</td>\n",
       "      <td>106.125798</td>\n",
       "    </tr>\n",
       "    <tr>\n",
       "      <th>male</th>\n",
       "      <td>455.729508</td>\n",
       "      <td>0.368852</td>\n",
       "      <td>41.281386</td>\n",
       "      <td>0.311475</td>\n",
       "      <td>0.278689</td>\n",
       "      <td>67.226127</td>\n",
       "    </tr>\n",
       "    <tr>\n",
       "      <th rowspan=\"2\" valign=\"top\">2</th>\n",
       "      <th>female</th>\n",
       "      <td>443.105263</td>\n",
       "      <td>0.921053</td>\n",
       "      <td>28.722973</td>\n",
       "      <td>0.486842</td>\n",
       "      <td>0.605263</td>\n",
       "      <td>21.970121</td>\n",
       "    </tr>\n",
       "    <tr>\n",
       "      <th>male</th>\n",
       "      <td>447.962963</td>\n",
       "      <td>0.157407</td>\n",
       "      <td>30.740707</td>\n",
       "      <td>0.342593</td>\n",
       "      <td>0.222222</td>\n",
       "      <td>19.741782</td>\n",
       "    </tr>\n",
       "    <tr>\n",
       "      <th rowspan=\"2\" valign=\"top\">3</th>\n",
       "      <th>female</th>\n",
       "      <td>399.729167</td>\n",
       "      <td>0.500000</td>\n",
       "      <td>21.750000</td>\n",
       "      <td>0.895833</td>\n",
       "      <td>0.798611</td>\n",
       "      <td>16.118810</td>\n",
       "    </tr>\n",
       "    <tr>\n",
       "      <th>male</th>\n",
       "      <td>455.515850</td>\n",
       "      <td>0.135447</td>\n",
       "      <td>26.507589</td>\n",
       "      <td>0.498559</td>\n",
       "      <td>0.224784</td>\n",
       "      <td>12.661633</td>\n",
       "    </tr>\n",
       "  </tbody>\n",
       "</table>\n",
       "</div>"
      ],
      "text/plain": [
       "               PassengerId  Survived        Age     SibSp     Parch  \\\n",
       "Pclass Sex                                                            \n",
       "1      female   469.212766  0.968085  34.611765  0.553191  0.457447   \n",
       "       male     455.729508  0.368852  41.281386  0.311475  0.278689   \n",
       "2      female   443.105263  0.921053  28.722973  0.486842  0.605263   \n",
       "       male     447.962963  0.157407  30.740707  0.342593  0.222222   \n",
       "3      female   399.729167  0.500000  21.750000  0.895833  0.798611   \n",
       "       male     455.515850  0.135447  26.507589  0.498559  0.224784   \n",
       "\n",
       "                     Fare  \n",
       "Pclass Sex                 \n",
       "1      female  106.125798  \n",
       "       male     67.226127  \n",
       "2      female   21.970121  \n",
       "       male     19.741782  \n",
       "3      female   16.118810  \n",
       "       male     12.661633  "
      ]
     },
     "execution_count": 38,
     "metadata": {},
     "output_type": "execute_result"
    }
   ],
   "source": [
    "titanic_df_grouped = titanic_df.groupby(['Pclass', 'Sex'])\n",
    "titanic_df_grouped.mean()"
   ]
  },
  {
   "cell_type": "markdown",
   "metadata": {},
   "source": [
    "### E: Survival Rate by Age Range:  `pd.cut()` takes two arguments: A `list`, `Series`, or `array`, and a list of bins. Create a new column in your `DataFrame` using `pd.cut()` that groups your ages into bins of 5 years. Then, use `.groupby()` to display the survival rate and count for each age group"
   ]
  },
  {
   "cell_type": "code",
   "execution_count": 39,
   "metadata": {
    "collapsed": true
   },
   "outputs": [],
   "source": [
    "import numpy as np\n",
    "\n",
    "def valid_data_pd(df, col):\n",
    "    valid_mask = np.isnan(df[col]) == False\n",
    "    invalid_mask = np.isnan(df[col]) == True\n",
    "    \n",
    "    temp_df_valid_mask = df[valid_mask].copy()\n",
    "    temp_df_invalid_mask = df[invalid_mask].copy()\n",
    "        \n",
    "    return temp_df_valid_mask, temp_df_invalid_mask\n",
    "\n",
    "\n",
    "def bin_cut(s, bin_size):\n",
    "    s_min = int(s.min())\n",
    "    s_max = int(s.max())\n",
    "    \n",
    "    bin_num = s_min\n",
    "    bin_sequence = []\n",
    "    while bin_num <= s_max:\n",
    "        bin_sequence.append(bin_num)\n",
    "        bin_num += bin_size\n",
    "    \n",
    "    return bin_sequence"
   ]
  },
  {
   "cell_type": "code",
   "execution_count": 40,
   "metadata": {},
   "outputs": [
    {
     "name": "stdout",
     "output_type": "stream",
     "text": [
      "age group: (0, 5]\n",
      "survival count: 31\n",
      "survival rate: 0.704545454545\n",
      "\n",
      "age group: (10, 15]\n",
      "survival count: 11\n",
      "survival rate: 0.578947368421\n",
      "\n",
      "age group: (15, 20]\n",
      "survival count: 33\n",
      "survival rate: 0.34375\n",
      "\n",
      "age group: (20, 25]\n",
      "survival count: 42\n",
      "survival rate: 0.344262295082\n",
      "\n",
      "age group: (25, 30]\n",
      "survival count: 42\n",
      "survival rate: 0.388888888889\n",
      "\n",
      "age group: (30, 35]\n",
      "survival count: 41\n",
      "survival rate: 0.465909090909\n",
      "\n",
      "age group: (35, 40]\n",
      "survival count: 28\n",
      "survival rate: 0.417910447761\n",
      "\n",
      "age group: (40, 45]\n",
      "survival count: 17\n",
      "survival rate: 0.36170212766\n",
      "\n",
      "age group: (45, 50]\n",
      "survival count: 16\n",
      "survival rate: 0.410256410256\n",
      "\n",
      "age group: (5, 10]\n",
      "survival count: 7\n",
      "survival rate: 0.35\n",
      "\n",
      "age group: (50, 55]\n",
      "survival count: 10\n",
      "survival rate: 0.416666666667\n",
      "\n",
      "age group: (55, 60]\n",
      "survival count: 7\n",
      "survival rate: 0.388888888889\n",
      "\n",
      "age group: (60, 65]\n",
      "survival count: 4\n",
      "survival rate: 0.285714285714\n",
      "\n",
      "age group: (65, 70]\n",
      "survival count: 0\n",
      "survival rate: 0.0\n",
      "\n",
      "age group: (70, 75]\n",
      "survival count: 0\n",
      "survival rate: 0.0\n",
      "\n",
      "age group: (75, 80]\n",
      "survival count: 1\n",
      "survival rate: 1.0\n",
      "\n",
      "age group: No age data\n",
      "survival count: 52\n",
      "survival rate: 0.293785310734\n",
      "\n"
     ]
    }
   ],
   "source": [
    "titanic_df_valid_age, titanic_df_no_age = valid_data_pd(titanic_df, 'Age')\n",
    "\n",
    "titanic_df_valid_age['Age_Bin'] = pd.cut(titanic_df_valid_age['Age'], bins=bin_cut(titanic_df_valid_age['Age'], 5))\n",
    "titanic_df_no_age['Age_Bin'] = 'No age data'\n",
    "\n",
    "titanic_df_age = pd.concat([titanic_df_valid_age, titanic_df_no_age])\n",
    "age_group = titanic_df_age.groupby('Age_Bin')\n",
    "\n",
    "for group_name, group_df in age_group:\n",
    "    print(\"age group:\", group_name)\n",
    "    print(\"survival count:\", group_df['Survived'].sum())\n",
    "    print(\"survival rate:\", group_df['Survived'].mean())\n",
    "    print()"
   ]
  },
  {
   "cell_type": "markdown",
   "metadata": {},
   "source": [
    "# 14. Hypothesis Testing\n",
    "\n",
    "### A) Hypothesis:\n",
    "\n",
    "Create a null and alternate hypothesis to ask the following quesiton: Was the `Age` of survivors different from that of people who didn't survive?"
   ]
  },
  {
   "cell_type": "markdown",
   "metadata": {},
   "source": [
    "**Hypotheses:**\n",
    "\n",
    "<font color='green'>$H_0$: The mean difference between the age of survivors and age of non-survivors is zero.\n",
    "\n",
    "$H_1$: The mean difference between the age of survivors and age of non-survivors is different than zero."
   ]
  },
  {
   "cell_type": "markdown",
   "metadata": {},
   "source": [
    "### B) T-Testing\n",
    "\n",
    "Use a t-test to test your null hypothesis. What's the p-value? What's your interpretation? Do you accept or reject your null hypothesis? What does this mean in terms of `Age`?\n",
    "\n",
    "<font color='green'> ** Andy's response: Based on the p-value of approximately 0.04, the sample data set is unlikely, assuming the null hypothesis is true.  Therefore, $H_0$ can be rejected.  and it can be concluded that the mean difference between the age of survivors and age of non-survivors is different than zero.  **"
   ]
  },
  {
   "cell_type": "code",
   "execution_count": 41,
   "metadata": {
    "collapsed": true
   },
   "outputs": [],
   "source": [
    "survived_mask = titanic_df_valid_age['Survived'] == 1\n",
    "not_survived_mask = titanic_df_valid_age['Survived'] != 1\n",
    "\n",
    "titanic_survived_df = titanic_df_valid_age[survived_mask]\n",
    "titanic_not_survived_df = titanic_df_valid_age[not_survived_mask]\n",
    "\n",
    "titanic_survived_np = np.array(titanic_survived_df['Age'])\n",
    "titanic_not_survived_np = np.array(titanic_not_survived_df['Age'])"
   ]
  },
  {
   "cell_type": "code",
   "execution_count": 42,
   "metadata": {},
   "outputs": [
    {
     "data": {
      "text/plain": [
       "Ttest_indResult(statistic=-2.0666869462538102, pvalue=0.039124654013482488)"
      ]
     },
     "execution_count": 42,
     "metadata": {},
     "output_type": "execute_result"
    }
   ],
   "source": [
    "ttest = stats.ttest_ind(titanic_survived_np, titanic_not_survived_np)\n",
    "ttest"
   ]
  },
  {
   "cell_type": "markdown",
   "metadata": {},
   "source": [
    "# 13. Write-up\n",
    "\n",
    "Use markdown cells to answer the following questions:\n",
    "\n",
    "1. What is the main difference between a list and a tuple?\n",
    "2. Can you iterate over a dictionary? If so, how?\n",
    "3. What is the term for a list or array of `True` and `False` values used to select certain rows or columns in a `DataFrame`?\n",
    "4. If you have a continuous variable, when would the median be a better descriptor than the mean? Why?\n",
    "5. Give a qualitative description of the survivors of the titanic based on the effects of your splits in the data on survival rate. Or, given a row, what columns would you look at to guess if they survived?\n"
   ]
  },
  {
   "cell_type": "markdown",
   "metadata": {},
   "source": [
    "<font color='green'> ** Andy's responses: **\n",
    "\n",
    "** 1. Both a tuple and list are a collection of values.  A tuple's values can have different types and order does not matter, whereas in a list, order matters and its value are usually of the same type. **\n",
    "\n",
    "** 2. It is possible to iterate over a dictionary using the .items() method, which returns each key and its values.  **\n",
    "\n",
    "** 3. Mask **\n",
    "\n",
    "** 4. Median would be a better descriptor than the mean when there are outliers that skew the distribution left or the right.  In these cases, median is likelier to fall into the middle of the distribution.  **\n",
    "\n",
    "** 5. As the Pclass value decreases, the likelihood of survival increases.  In addition, women were more likely to survive than men. **"
   ]
  },
  {
   "cell_type": "markdown",
   "metadata": {},
   "source": [
    "# 14. Evaluation\n",
    "\n",
    "Please use markdown cells to submit your responses. \n",
    "\n",
    "1. What was easy for you in this project?\n",
    "2. What was difficult?\n",
    "3. Where did you make the most improvement?\n",
    "4. Where would you like to improve?"
   ]
  },
  {
   "cell_type": "markdown",
   "metadata": {},
   "source": [
    "<font color='green'> ** Andy's responses: **\n",
    "\n",
    "** 1. This project was challenging, but reinforced the concepts covered so far. **\n",
    "\n",
    "** 2. Changing dictionary format was most difficult. **\n",
    "\n",
    "** 3. I was able to improve my knowledge of syntax without referring to my notes. **\n",
    "\n",
    "** 4. I'd like to familiarize myself with more plotting.  **"
   ]
  },
  {
   "cell_type": "code",
   "execution_count": null,
   "metadata": {
    "collapsed": true
   },
   "outputs": [],
   "source": []
  }
 ],
 "metadata": {
  "kernelspec": {
   "display_name": "Python 3",
   "language": "python",
   "name": "python3"
  },
  "language_info": {
   "codemirror_mode": {
    "name": "ipython",
    "version": 3
   },
   "file_extension": ".py",
   "mimetype": "text/x-python",
   "name": "python",
   "nbconvert_exporter": "python",
   "pygments_lexer": "ipython3",
   "version": "3.6.2"
  }
 },
 "nbformat": 4,
 "nbformat_minor": 2
}
